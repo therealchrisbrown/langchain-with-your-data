{
 "cells": [
  {
   "cell_type": "code",
   "execution_count": 12,
   "metadata": {},
   "outputs": [],
   "source": [
    "import os\n",
    "import openai\n",
    "import sys\n",
    "sys.path.append('../..')\n",
    "\n",
    "import constants\n",
    "\n",
    "openai.api_key = constants.OPENAI_API_KEY"
   ]
  },
  {
   "cell_type": "code",
   "execution_count": 13,
   "metadata": {},
   "outputs": [],
   "source": [
    "from langchain.document_loaders import PyPDFLoader"
   ]
  },
  {
   "cell_type": "code",
   "execution_count": 14,
   "metadata": {},
   "outputs": [],
   "source": [
    "loader = PyPDFLoader(\"./DB004.pdf\")"
   ]
  },
  {
   "cell_type": "code",
   "execution_count": 15,
   "metadata": {},
   "outputs": [],
   "source": [
    "pages = loader.load()"
   ]
  },
  {
   "cell_type": "code",
   "execution_count": 16,
   "metadata": {},
   "outputs": [
    {
     "data": {
      "text/plain": [
       "47"
      ]
     },
     "execution_count": 16,
     "metadata": {},
     "output_type": "execute_result"
    }
   ],
   "source": [
    "len(pages)"
   ]
  },
  {
   "cell_type": "code",
   "execution_count": 17,
   "metadata": {},
   "outputs": [],
   "source": [
    "page = pages[0]"
   ]
  },
  {
   "cell_type": "code",
   "execution_count": 18,
   "metadata": {},
   "outputs": [
    {
     "name": "stdout",
     "output_type": "stream",
     "text": [
      " \n",
      " 1  Verbuchung der Kontenauszüge mit TIS Inhalt\t1 EINLEITUNG\t...............................................................................................................................\t3 2 BEST\tPRACTICE\tVERBUCHUNG\tELEKTRONISCHE\tKONTOAUSZÜGE\tVIA\tTIS\t.......\t4 2.1 Kontenauszüge anzeigen lassen: ........................................................................................................ 4 2.1.1 Hinweis: Nicht alle Kontenauszüge vorhanden nach Feiertagen ...........................\n"
     ]
    }
   ],
   "source": [
    "print(page.page_content[:500])"
   ]
  },
  {
   "cell_type": "code",
   "execution_count": 19,
   "metadata": {},
   "outputs": [
    {
     "data": {
      "text/plain": [
       "{'source': './DB004.pdf', 'page': 0}"
      ]
     },
     "execution_count": 19,
     "metadata": {},
     "output_type": "execute_result"
    }
   ],
   "source": [
    "page.metadata"
   ]
  },
  {
   "cell_type": "code",
   "execution_count": 20,
   "metadata": {},
   "outputs": [],
   "source": [
    "from langchain.document_loaders.generic import GenericLoader\n",
    "from langchain.document_loaders.parsers import OpenAIWhisperParser\n",
    "from langchain.document_loaders.blob_loaders.youtube_audio import YoutubeAudioLoader"
   ]
  },
  {
   "cell_type": "code",
   "execution_count": 21,
   "metadata": {},
   "outputs": [
    {
     "name": "stdout",
     "output_type": "stream",
     "text": [
      "[youtube] Extracting URL: https://www.youtube.com/watch?v=uaQZIK9gvNo\n",
      "[youtube] uaQZIK9gvNo: Downloading webpage\n",
      "[youtube] uaQZIK9gvNo: Downloading ios player API JSON\n",
      "[youtube] uaQZIK9gvNo: Downloading android player API JSON\n",
      "[youtube] uaQZIK9gvNo: Downloading m3u8 information\n",
      "[info] uaQZIK9gvNo: Downloading 1 format(s): 140\n",
      "[download] Destination: docs/youtube//OpenAI's Sam Altman an der TUM.m4a\n",
      "[download] 100% of   30.72MiB in 00:00:02 at 11.18MiB/s    \n",
      "[FixupM4a] Correcting container of \"docs/youtube//OpenAI's Sam Altman an der TUM.m4a\"\n",
      "[ExtractAudio] Not converting audio docs/youtube//OpenAI's Sam Altman an der TUM.m4a; file is already in target format m4a\n",
      "Transcribing part 1!\n",
      "Transcribing part 2!\n"
     ]
    }
   ],
   "source": [
    "url=\"https://www.youtube.com/watch?v=uaQZIK9gvNo\"\n",
    "save_dir=\"docs/youtube/\"\n",
    "loader = GenericLoader(\n",
    "    YoutubeAudioLoader([url],save_dir),\n",
    "    OpenAIWhisperParser()\n",
    ")\n",
    "docs = loader.load()"
   ]
  },
  {
   "cell_type": "code",
   "execution_count": 22,
   "metadata": {},
   "outputs": [
    {
     "data": {
      "text/plain": [
       "\"Yeah, ladies and gentlemen, please take a seat in the last rows. First of all, welcome all of you, and to be honest, I'm really impressed because only 30 minutes after we announced that Sam Altman will come to visit us, everything was booked until to the last seat, so Sam, welcome here at TUM. It's an honor and a pleasure for us to have you here today. I would like to welcome all of you, the young students who want to learn how you can become the next entrepreneur, the scientific staff, professo\""
      ]
     },
     "execution_count": 22,
     "metadata": {},
     "output_type": "execute_result"
    }
   ],
   "source": [
    "docs[0].page_content[0:500]"
   ]
  },
  {
   "cell_type": "code",
   "execution_count": 2,
   "metadata": {},
   "outputs": [],
   "source": [
    "from langchain.document_loaders import WebBaseLoader"
   ]
  },
  {
   "cell_type": "code",
   "execution_count": 3,
   "metadata": {},
   "outputs": [],
   "source": [
    "web_loader = WebBaseLoader(\"https://aws.amazon.com/de/blogs/machine-learning/build-a-powerful-question-answering-bot-with-amazon-sagemaker-amazon-opensearch-service-streamlit-and-langchain/?sc_channel=sm&sc_campaign=Machine_Learning&sc_publisher=LINKEDIN&sc_geo=GLOBAL&sc_outcome=awareness&trk=machine_learning&linkId=219734484\")"
   ]
  },
  {
   "cell_type": "code",
   "execution_count": 5,
   "metadata": {},
   "outputs": [],
   "source": [
    "docs_web = web_loader.load()"
   ]
  },
  {
   "cell_type": "code",
   "execution_count": 6,
   "metadata": {},
   "outputs": [
    {
     "name": "stdout",
     "output_type": "stream",
     "text": [
      "\n",
      "\n",
      "\n",
      "\n",
      "\n",
      "Build a powerful question answering bot with Amazon SageMaker, Amazon OpenSearch Service, Streamlit, and LangChain | AWS Machine Learning Blog\n",
      "\n",
      "\n",
      "\n",
      "\n",
      "\n",
      "\n",
      "\n",
      "\n",
      "\n",
      "\n",
      "\n",
      "\n",
      "\n",
      "\n",
      "\n",
      "\n",
      "\n",
      "\n",
      "\n",
      "\n",
      "\n",
      "\n",
      "\n",
      "\n",
      "\n",
      "\n",
      "\n",
      "\n",
      "\n",
      "\n",
      "\n",
      "\n",
      "\n",
      "\n",
      "\n",
      "\n",
      "\n",
      "\n",
      "\n",
      "\n",
      "\n",
      "\n",
      "\n",
      "\n",
      "\n",
      "\n",
      "\n",
      "\n",
      "\n",
      "\n",
      "\n",
      "\n",
      "\n",
      " Skip to Main Content\n",
      "\n",
      "\n",
      "\n",
      "\n",
      "\n",
      "Click here to return to Amazon Web Services homepage\n",
      "\n",
      "\n",
      "\n",
      "Contact Us\n",
      " Support  \n",
      "English \n",
      "My Account \n",
      "\n",
      "\n",
      "\n",
      "\n",
      " Sign In\n",
      "\n",
      "\n",
      "  Create an AWS Account \n",
      "\n",
      "\n",
      "\n",
      "\n",
      "\n",
      "\n",
      "\n",
      "\n",
      "\n",
      "Products\n",
      "Solutions\n",
      "Pricing\n",
      "Documentation\n",
      "Learn\n",
      "Partner Network\n",
      "AWS Marketplace\n",
      "Customer Enablement\n",
      "Events\n",
      "Explore More \n",
      "\n",
      "\n",
      "\n",
      "\n",
      "\n"
     ]
    }
   ],
   "source": [
    "print(docs_web[0].page_content[:500])"
   ]
  },
  {
   "cell_type": "code",
   "execution_count": null,
   "metadata": {},
   "outputs": [],
   "source": []
  }
 ],
 "metadata": {
  "kernelspec": {
   "display_name": "langchain-with-your-data",
   "language": "python",
   "name": "python3"
  },
  "language_info": {
   "codemirror_mode": {
    "name": "ipython",
    "version": 3
   },
   "file_extension": ".py",
   "mimetype": "text/x-python",
   "name": "python",
   "nbconvert_exporter": "python",
   "pygments_lexer": "ipython3",
   "version": "3.11.4"
  },
  "orig_nbformat": 4
 },
 "nbformat": 4,
 "nbformat_minor": 2
}
